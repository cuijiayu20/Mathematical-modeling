{
 "cells": [
  {
   "cell_type": "code",
   "execution_count": 17,
   "metadata": {},
   "outputs": [
    {
     "name": "stdout",
     "output_type": "stream",
     "text": [
      "[[  1   2   3   4   5   6   7   8]\n",
      " [  0   0   0   0   0   0   0   0]\n",
      " [560 560 560 560 560 560 560 560]\n",
      " [ 28  31  28  31  28  31  28  31]\n",
      " [  0   0   0   0   0   0   0   0]\n",
      " [ -1  -1  -1  -1  -1  -1  -1  -1]]\n"
     ]
    }
   ],
   "source": [
    "import matplotlib.pyplot as plt  #画图用\n",
    "import numpy as np\n",
    "import matplotlib\n",
    "import xlrd \n",
    "cnc=np.empty([6,8],dtype=int) \n",
    "# %cnc: \n",
    "# % 第一行：cnc位置常量\n",
    "# % 第二行：cnc工作变量，空闲为0，忙碌为1\n",
    "# % 第三行：cnc工作时间，为常量560\n",
    "# % 第四行：cnc上下料时间\n",
    "# % 第五行：cnc预计完成时间\n",
    "# % 第六行：cnc加工物料数\n",
    "file1=\"./cnc数据.xls\"\n",
    "data = xlrd.open_workbook(file1) \n",
    "sheet = data.sheet_by_index(0)  #sheet为第一个\n",
    "# for col in range(sheet.ncols):   \n",
    "#     print(sheet.cell_value(0,col)) \n",
    "for row in range(sheet.nrows):\n",
    "    for col in range(sheet.ncols):\n",
    "        cnc[row,col]=sheet.cell_value(row,col)\n",
    "cnc[5,:]=-1\n",
    "print(cnc)\n"
   ]
  }
 ],
 "metadata": {
  "kernelspec": {
   "display_name": "Python 3.9.12 ('math')",
   "language": "python",
   "name": "python3"
  },
  "language_info": {
   "codemirror_mode": {
    "name": "ipython",
    "version": 3
   },
   "file_extension": ".py",
   "mimetype": "text/x-python",
   "name": "python",
   "nbconvert_exporter": "python",
   "pygments_lexer": "ipython3",
   "version": "3.9.12"
  },
  "orig_nbformat": 4,
  "vscode": {
   "interpreter": {
    "hash": "ad691015b34b7ccf47ed32d22f3bb8655239954a049fb388a8990fe50ab2e03a"
   }
  }
 },
 "nbformat": 4,
 "nbformat_minor": 2
}
