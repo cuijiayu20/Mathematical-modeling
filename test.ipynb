{
 "cells": [
  {
   "cell_type": "code",
   "execution_count": 1,
   "metadata": {},
   "outputs": [
    {
     "name": "stdout",
     "output_type": "stream",
     "text": [
      "     con: array([nan, nan, nan])\n",
      "     fun: -inf\n",
      " message: 'If feasible, the problem is (trivially) unbounded due  to a zero column in the constraint matrices. If you wish to check whether the problem is infeasible, turn presolve off.'\n",
      "     nit: 0\n",
      "   slack: array([nan, nan, nan, nan, nan, nan, nan])\n",
      "  status: 3\n",
      " success: False\n",
      "       x: array([ 0.,  0.,  0.,  0., inf, inf, inf, inf, inf, inf, inf, inf,  0.])\n"
     ]
    }
   ],
   "source": [
    "import numpy as np \n",
    "from scipy.optimize import linprog\n",
    "\n",
    "a=np.array([-3100,-3100,-3100,-3800,-3800,-3800,-3500,-3500,-3500,-2850,-2850,-2850,0])\n",
    "b=np.array([[1,1,1,0,0,0,0,0,0,0,0,0,0],[1,1,1,0,0,0,0,0,0,0,0,0,0],[1,1,1,0,0,0,0,0,0,0,0,0,0],[1,1,1,0,0,0,0,0,0,0,0,0,0],[480,650,580,390,0,0,0,0,0,0,0,0,0],[480,650,580,390,0,0,0,0,0,0,0,0,0],[480,650,580,390,0,0,0,0,0,0,0,0,0]])\n",
    "c=np.array([18,15,23,12,6800,8700,5300])\n",
    "d=np.array([[1,1,1,1,0,0,0,0,0,0,0,0,0],[1,1,1,1,0,0,0,0,0,0,0,0,0],[1,1,1,1,0,0,0,0,0,0,0,0,0]])\n",
    "e=np.array([5,8,4])\n",
    "x1,x2,x3,x4,x5,x6,x7,x8,x9,x10,x11,x12,x13=(0,None),(0,None),(0,None),(0,None),(0,None),(0,None),(0,None),(0,None),(0,None),(0,None),(0,None),(0,None),(0,None)\n",
    "\n",
    "res=linprog(a,b,c,d,e,bounds=(x1,x2,x3,x4,x5,x6,x7,x8,x9,x10,x11,x12,x13)) \n",
    "print(res)\n",
    "\n",
    "\n",
    "\n"
   ]
  },
  {
   "cell_type": "markdown",
   "metadata": {},
   "source": []
  },
  {
   "cell_type": "code",
   "execution_count": 4,
   "metadata": {},
   "outputs": [
    {
     "name": "stdout",
     "output_type": "stream",
     "text": [
      "最优解为：  54000.0\n",
      "最优解为： \n",
      " [[15. -0. -0. -0.]\n",
      " [-0. -0. -0. -0.]\n",
      " [ 8. 12. -0. -0.]\n",
      " [-0. -0. -0. -0.]]\n"
     ]
    }
   ],
   "source": [
    "import cvxpy as cp\n",
    "\n",
    "x=cp.Variable((4,4),pos=True) #生成一个变量\n",
    "obj=cp.Minimize(2800*sum(x[:0])+4500*sum(x[:3,1])+6000*sum(x[:2,2])+7300*x[0,3])\n",
    "cons=[sum(x[0,:])>=15,\n",
    "        sum(x[0,1:])+sum(x[2,:3])>=10,\n",
    "        sum(x[0,2:])+sum(x[1,1:3])+sum(x[2,:2])>=20,\n",
    "        x[0,3]+x[1,2]+x[2,1]+[3,0]>=12]\n",
    "prob=cp.Problem(obj,cons)\n",
    "prob.solve(solver='GLPK_MI')\n",
    "print(\"最优解为： \",prob.value)\n",
    "print(\"最优解为： \\n\",x.value)\n"
   ]
  },
  {
   "cell_type": "code",
   "execution_count": 1,
   "metadata": {},
   "outputs": [
    {
     "name": "stdout",
     "output_type": "stream",
     "text": [
      "['CVXOPT', 'ECOS', 'ECOS_BB', 'GLPK', 'GLPK_MI', 'OSQP', 'SCIPY', 'SCS']\n"
     ]
    }
   ],
   "source": [
    "import  cvxopt\n",
    "import cvxpy \n",
    "print(cvxpy.installed_solvers())"
   ]
  },
  {
   "cell_type": "code",
   "execution_count": 19,
   "metadata": {},
   "outputs": [
    {
     "name": "stdout",
     "output_type": "stream",
     "text": [
      "['CVXOPT', 'ECOS', 'ECOS_BB', 'GLPK', 'GLPK_MI', 'OSQP', 'SCIPY', 'SCS']\n"
     ]
    }
   ],
   "source": [
    "import cvxpy as cp\n",
    "from numpy import array\n",
    "\n",
    "print(cp.installed_solvers())"
   ]
  }
 ],
 "metadata": {
  "kernelspec": {
   "display_name": "Python 3.9.12 ('math')",
   "language": "python",
   "name": "python3"
  },
  "language_info": {
   "codemirror_mode": {
    "name": "ipython",
    "version": 3
   },
   "file_extension": ".py",
   "mimetype": "text/x-python",
   "name": "python",
   "nbconvert_exporter": "python",
   "pygments_lexer": "ipython3",
   "version": "3.9.12"
  },
  "orig_nbformat": 4,
  "vscode": {
   "interpreter": {
    "hash": "ad691015b34b7ccf47ed32d22f3bb8655239954a049fb388a8990fe50ab2e03a"
   }
  }
 },
 "nbformat": 4,
 "nbformat_minor": 2
}
