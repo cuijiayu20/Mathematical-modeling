{
 "cells": [
  {
   "cell_type": "markdown",
   "metadata": {},
   "source": [
    "# 练习\n",
    "<img src=\"./pictures/1.jpg\">"
   ]
  },
  {
   "cell_type": "code",
   "execution_count": 4,
   "metadata": {},
   "outputs": [
    {
     "name": "stdout",
     "output_type": "stream",
     "text": [
      "最优解为：  54000.0\n",
      "最优解为： \n",
      " [[15. -0. -0. -0.]\n",
      " [-0. -0. -0. -0.]\n",
      " [ 8. 12. -0. -0.]\n",
      " [-0. -0. -0. -0.]]\n"
     ]
    }
   ],
   "source": [
    "\n",
    "import cvxpy as cp\n",
    "\n",
    "x=cp.Variable((4,4),pos=True) #生成一个变量4*4,pos表示正数\n",
    "obj=cp.Minimize(2800*sum(x[:0])+4500*sum(x[:3,1])+6000*sum(x[:2,2])+7300*x[0,3])#求最小值所以用Minimize\n",
    "cons=[sum(x[0,:])>=15,\n",
    "        sum(x[0,1:])+sum(x[2,:3])>=10,\n",
    "        sum(x[0,2:])+sum(x[1,1:3])+sum(x[2,:2])>=20,\n",
    "        x[0,3]+x[1,2]+x[2,1]+[3,0]>=12]\n",
    "prob=cp.Problem(obj,cons)\n",
    "prob.solve(solver='GLPK_MI')\n",
    "print(\"最优解为： \",prob.value)#结果\n",
    "print(\"最优解为： \\n\",x.value)"
   ]
  },
  {
   "cell_type": "code",
   "execution_count": null,
   "metadata": {},
   "outputs": [],
   "source": [
    "import cvxpy as cp\n",
    "\n",
    "x=cp.Variable((4,4),pos=True) #生成一个变量\n",
    "obj=cp.Minimize(2800*sum(x[:0])+4500*sum(x[:3,1])+6000*sum(x[:2,2])+7300*x[0,3])\n",
    "cons=[sum(x[0,:])>=15,\n",
    "        sum(x[0,1:])+sum(x[2,:3])>=10,\n",
    "        sum(x[0,2:])+sum(x[1,1:3])+sum(x[2,:2])>=20,\n",
    "        x[0,3]+x[1,2]+x[2,1]+[3,0]>=12]\n",
    "prob=cp.Problem(obj,cons)\n",
    "prob.solve(solver='GLPK_MI')\n",
    "print(\"最优解为： \",prob.value)\n",
    "print(\"最优解为： \\n\",x.value)\n"
   ]
  },
  {
   "cell_type": "markdown",
   "metadata": {},
   "source": [
    "# 练习\n",
    "<img src=\"./pictures/3.jpg\" height=\"400\" width=\"700\">\n",
    "<img src=\"./pictures/4.jpg\" height=\"400\" width=\"1000\">"
   ]
  },
  {
   "cell_type": "code",
   "execution_count": 25,
   "metadata": {},
   "outputs": [
    {
     "name": "stdout",
     "output_type": "stream",
     "text": [
      "最优解：  [12.  8.]\n",
      "最优值：  -10.0\n"
     ]
    }
   ],
   "source": [
    "import numpy as np\n",
    "import cvxpy as cp\n",
    "\n",
    "c1=np.array([-2,-3])\n",
    "c2=np.array([1,2])\n",
    "a=np.array([[0.5,0.25],[0.2,0.2],[1,5],[-1,-1]])\n",
    "b=np.array([8,4,72,-10])\n",
    "x=cp.Variable(2,pos=True)\n",
    "obj=cp.Minimize(0.5*(c1+c2)@x)\n",
    "con=[a@x<=b] #@应该表示分别乘x1，x2\n",
    "prob=cp.Problem(obj,con)\n",
    "prob.solve(solver=\"GLPK_MI\")\n",
    "print(\"最优解： \",x.value)\n",
    "print(\"最优值： \",prob.value)"
   ]
  },
  {
   "cell_type": "code",
   "execution_count": 34,
   "metadata": {},
   "outputs": [
    {
     "name": "stdout",
     "output_type": "stream",
     "text": [
      "两个目标函数最优解： -53.0 10.0\n",
      "解法二最优 [ 7.00000021 12.9999996 ]\n"
     ]
    }
   ],
   "source": [
    "import numpy as np\n",
    "import cvxpy as cp\n",
    "\n",
    "c1=np.array([-2,-3])\n",
    "c2=np.array([1,2])\n",
    "a=np.array([[0.5,0.25],[0.2,0.2],[1,5],[-1,-1]])\n",
    "b=np.array([8,4,72,-10])\n",
    "x=cp.Variable(2,pos=True)\n",
    "obj1=cp.Minimize(c1@x)\n",
    "con=[a@x<=b] #@应该表示分别乘x1，x2\n",
    "prob1=cp.Problem(obj1,con)\n",
    "prob1.solve(solver=\"GLPK_MI\")\n",
    "v1=prob1.value\n",
    "obj2=cp.Minimize(c2@x)\n",
    "prob2=cp.Problem(obj2,con)\n",
    "prob2.solve(solver=\"GLPK_MI\")\n",
    "v2=prob2.value\n",
    "print(\"两个目标函数最优解：\",v1,v2)\n",
    "obj3=cp.Minimize((c1@x-v1)**2+(c2@x-v2)**2)\n",
    "prob3=cp.Problem(obj3,con)\n",
    "prob1.solve(solver=\"CVXOPT\")\n",
    "print(\"解法二最优\",x.value)\n"
   ]
  },
  {
   "cell_type": "code",
   "execution_count": 37,
   "metadata": {},
   "outputs": [
    {
     "name": "stdout",
     "output_type": "stream",
     "text": [
      "两个目标函数最优解： -53.0\n",
      "[ 7. 13.]\n"
     ]
    }
   ],
   "source": [
    "import numpy as np\n",
    "import cvxpy as cp\n",
    "\n",
    "c1=np.array([-2,-3])\n",
    "c2=np.array([1,2])\n",
    "a=np.array([[0.5,0.25],[0.2,0.2],[1,5],[-1,-1]])\n",
    "b=np.array([8,4,72,-10])\n",
    "x=cp.Variable(2,pos=True)\n",
    "obj1=cp.Minimize(c1@x)\n",
    "con=[a@x<=b] #@应该表示分别乘x1，x2\n",
    "prob1=cp.Problem(obj1,con)\n",
    "prob1.solve(solver=\"GLPK_MI\")\n",
    "v1=prob1.value\n",
    "obj2=cp.Minimize(c2@x)\n",
    "print(\"两个目标函数最优解：\",v1)\n",
    "con.append(c1@x==v1)\n",
    "prob4=cp.Problem(obj2,con)\n",
    "prob4.solve(solver=\"GLPK_MI\")\n",
    "x3=x.value\n",
    "print(x3)\n",
    "\n"
   ]
  },
  {
   "cell_type": "markdown",
   "metadata": {},
   "source": [
    "# 任务\n",
    "<img src=\"./pictures/2.png\" height=\"330\" width=\"1000\">"
   ]
  },
  {
   "cell_type": "code",
   "execution_count": 10,
   "metadata": {},
   "outputs": [
    {
     "name": "stdout",
     "output_type": "stream",
     "text": [
      "     con: array([], dtype=float64)\n",
      "     fun: -16.49999999997455\n",
      " message: 'Optimization terminated successfully.'\n",
      "     nit: 5\n",
      "   slack: array([1.13056231e-11])\n",
      "  status: 0\n",
      " success: True\n",
      "       x: array([2., 5.])\n"
     ]
    }
   ],
   "source": [
    "import numpy as np\n",
    "from scipy.optimize import linprog\n",
    "c=np.array([-2,-2.5])\n",
    "aeq=np.array([[1,1]])\n",
    "beq=np.array([[7]])\n",
    "x1=(0,5)\n",
    "x2=(0,5)\n",
    "res=linprog(c,aeq,beq,bounds=(x1,x2))\n",
    "print(res)\n"
   ]
  },
  {
   "cell_type": "code",
   "execution_count": 27,
   "metadata": {},
   "outputs": [
    {
     "name": "stdout",
     "output_type": "stream",
     "text": [
      "\n",
      "======1.线性加权法======\n",
      "\n",
      "最优解：  [5. 2.]\n",
      "最优值：  -13.0\n"
     ]
    }
   ],
   "source": [
    "import numpy as np\n",
    "import cvxpy as cp\n",
    "x=cp.Variable(2,pos=True)\n",
    "c1=np.array([-3,-1])\n",
    "c2=np.array([-1,-2])\n",
    "obj=cp.Minimize(0.5*(c1+c2)@x)\n",
    "a=np.array([[1,1],[1,0],[0,1]])\n",
    "b=np.array([7,5,5])\n",
    "con=[a@x<=b]\n",
    "prob=cp.Problem(obj,con)\n",
    "prob.solve(solver=\"GLPK_MI\")\n",
    "print('\\n======1.线性加权法======\\n')\n",
    "print(\"最优解： \",x.value)\n",
    "print(\"最优值： \",prob.value)\n"
   ]
  },
  {
   "cell_type": "code",
   "execution_count": 11,
   "metadata": {},
   "outputs": [
    {
     "name": "stdout",
     "output_type": "stream",
     "text": [
      "\n",
      "======1.线性加权法======\n",
      "\n",
      "解法一理想解： [12.  8.]\n",
      "利润： 44.0\n",
      "污染排放： -27.999999999999993\n"
     ]
    }
   ],
   "source": [
    "\n"
   ]
  }
 ],
 "metadata": {
  "kernelspec": {
   "display_name": "Python 3.9.12 ('math')",
   "language": "python",
   "name": "python3"
  },
  "language_info": {
   "codemirror_mode": {
    "name": "ipython",
    "version": 3
   },
   "file_extension": ".py",
   "mimetype": "text/x-python",
   "name": "python",
   "nbconvert_exporter": "python",
   "pygments_lexer": "ipython3",
   "version": "3.9.12"
  },
  "orig_nbformat": 4,
  "vscode": {
   "interpreter": {
    "hash": "ad691015b34b7ccf47ed32d22f3bb8655239954a049fb388a8990fe50ab2e03a"
   }
  }
 },
 "nbformat": 4,
 "nbformat_minor": 2
}
