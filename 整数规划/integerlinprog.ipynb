{
 "cells": [
  {
   "cell_type": "markdown",
   "metadata": {},
   "source": [
    "<img src=\"./picture/1.png\" height=\"330\" width=\"1000\">"
   ]
  },
  {
   "cell_type": "markdown",
   "metadata": {},
   "source": [
    "<img src=\"./picture/2.png\" height=\"330\" width=\"1000\">"
   ]
  },
  {
   "cell_type": "markdown",
   "metadata": {},
   "source": [
    "<img src=\"./picture/3.png\" >"
   ]
  },
  {
   "cell_type": "code",
   "execution_count": 31,
   "metadata": {},
   "outputs": [
    {
     "name": "stdout",
     "output_type": "stream",
     "text": [
      "[[ 4.  2.  3.  4.]\n",
      " [ 6.  4.  5.  5.]\n",
      " [ 7.  6.  7.  6.]\n",
      " [ 7.  8.  8.  6.]\n",
      " [ 7.  9.  8.  6.]\n",
      " [ 7. 10.  8.  6.]] @ var803\n",
      "最优解：  [[0. 0. 0. 1.]\n",
      " [1. 0. 0. 0.]\n",
      " [0. 0. 1. 0.]\n",
      " [0. 1. 0. 0.]\n",
      " [0. 1. 0. 0.]\n",
      " [0. 1. 0. 0.]]\n",
      "最优值：  44.0\n"
     ]
    }
   ],
   "source": [
    "import cvxpy as cp \n",
    "import numpy as np\n",
    "\n",
    "x=cp.Variable((6,4),integer=True)\n",
    "\n",
    "c=np.array([[4,2,3,4],[6,4,5,5],[7,6,7,6],[7,8,8,6],[7,9,8,6],[7,10,8,6]])\n",
    "#c=np.array([[4,6,7,7,7,7],[2,4,6,8,9,10],[3,5,7,8,8,8],[4,5,6,6,6,6]])\n",
    "print(cp.multiply(c, x))\n",
    "obj = cp.Maximize(cp.sum(cp.multiply(c, x)))#如果需要变标量，用这个\n",
    "#obj=cp.Maximize(sum(c@x))\n",
    "con=[\n",
    "    sum(x)>=1,#行求和\n",
    "    cp.sum(x,axis=1)==1,#列求和\n",
    "    x>=0,\n",
    "    x<=1\n",
    "]\n",
    "prob=cp.Problem(obj,con)\n",
    "prob.solve(solver=\"GLPK_MI\")\n",
    "print(\"最优解： \",x.value)\n",
    "print(\"最优值： \",prob.value)"
   ]
  }
 ],
 "metadata": {
  "kernelspec": {
   "display_name": "Python 3.9.12 ('math')",
   "language": "python",
   "name": "python3"
  },
  "language_info": {
   "codemirror_mode": {
    "name": "ipython",
    "version": 3
   },
   "file_extension": ".py",
   "mimetype": "text/x-python",
   "name": "python",
   "nbconvert_exporter": "python",
   "pygments_lexer": "ipython3",
   "version": "3.9.12"
  },
  "orig_nbformat": 4,
  "vscode": {
   "interpreter": {
    "hash": "ad691015b34b7ccf47ed32d22f3bb8655239954a049fb388a8990fe50ab2e03a"
   }
  }
 },
 "nbformat": 4,
 "nbformat_minor": 2
}
