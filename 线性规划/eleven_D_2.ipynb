{
 "cells": [
  {
   "cell_type": "markdown",
   "metadata": {},
   "source": [
    "# 问题：钢材制造业中的钢材切割下料问题\n",
    "钢材制造业中往往会涉及到钢材的切割，钢材切割的剪切过程是在剪切台上完成 的，钢材依次经过切头肩和圆盘剪进行切割。圆盘剪对纵向运动的原材料进行切割，并 且剪切前需要进行排刀来满足订单的需要。而切头剪则实现将整个钢板横向完全切断， 若不满足一刀切的要求则无法用切头剪进行切割。对于切割完原材料的剩余部分若满足 余料要求则可以回收重新利用。现有 10 种长、宽、数量不等的原材料，针对 15 种订单 要求需要解决以下问题："
   ]
  },
  {
   "cell_type": "markdown",
   "metadata": {},
   "source": [
    "## 问题一:\n",
    "利用现有的 10 种原料，满足 5 种卷料的订单方案，在不考虑浮动比例的情况下， 寻找一种切割方案，使所需的原材料张数最少，并且尽可能的提高总的成材率"
   ]
  },
  {
   "cell_type": "markdown",
   "metadata": {},
   "source": [
    "* 采用了线性模型，具体思路是：先为材料从小到大排序，然后找最大的来切割，以此来减小张数"
   ]
  },
  {
   "cell_type": "code",
   "execution_count": 4,
   "metadata": {},
   "outputs": [],
   "source": [
    "# 论文给出的代码（可能有点小问题）\n",
    "import copy\n",
    "yL=[148623.91,32960.49,75508.72,14091.52,75040.31,138570.39,98641.28,114074.27,104637.72,58023.82]\n",
    "yW=[1519.91,999.35,1232.32,920.62,1573.71,844.99,1184.54,879.02,969.02,1785.45]\n",
    "yN=[5,10,8,2,3,10,12,9,3,10]\n",
    "dL=[44351.13,39229.01,54787.74,45284.39,53479.79,897.32,896.09,1096.33,890.53,422.88,970.16,998.29,1024.87,621.91,1243.03]\n",
    "dW=[422.88,282.88,268.36,277.70,332.29,603.06,714.72,435.84,343.08,641.45,667.21,472.30,340.51,476.60,471.25]\n",
    "dN=[36,29,42,32,18,38,23,31,40,42,34,25,24,22,28]\n",
    "yS=[]\n",
    "dS=[]\n",
    "for i in range(0,10):\n",
    "    yS.append([yL[i]*yW[i],yL[i],yW[i],yN[i],i+1])\n",
    "for i in range(0,5):\n",
    "    dS.append([dL[i]*dW[i],dL[i],dW[i],dN[i],i+1])\n",
    "y = sorted(yS, key=(lambda x: [x[0],x[1], x[2],x[3],x[4]]))\n",
    "d = sorted(dS, key=(lambda x: [x[0],x[1], x[2],x[3],x[4]]))\n",
    "y.reverse()\n",
    "d.reverse()\n",
    "y2=copy.deepcopy(y)\n",
    "d2=copy.deepcopy(d)\n",
    "result=1\n",
    "n=0\n",
    "x=0\n",
    "k=y[n][2]\n",
    "p1=[] \n",
    "p2=[] \n",
    "p3=[] \n",
    "z=0 \n",
    "sd=0 \n",
    "sy=0\n",
    "\n",
    "for i in range(0,5):\n",
    "    for j in range(0,d[i][3]):\n",
    "        z=z+1 \n",
    "        sd=sd+d[i][0]#算成材率\n",
    "        p1.append(d[i][4]) \n",
    "        if y[n][2]<d[i][2]:\n",
    "            p1.pop()\n",
    "            p2.append(p1)\n",
    "            p1=[d[i][4]]\n",
    "            if j==0:\n",
    "                y[n][1]=y[n][1]-d[i-1][1]\n",
    "            else:\n",
    "                y[n][1]=y[n][1]-d[i][1]\n",
    "            if y[n][1]>=d[i][1]:\n",
    "                y[n][2]=y2[n][2]\n",
    "                y[n][2]=y[n][2]-d[i][2]\n",
    "            elif y[n][1]<d[i][1]:\n",
    "                sy=sy+y[n][0]#算成材率\n",
    "                p3.append(p2)\n",
    "                p3.append(y[n][4]) \n",
    "                p2=[]\n",
    "                y[n][3]=y[n][3]-1 \n",
    "                result=result+1 \n",
    "                if y[n][3]==0:\n",
    "                    n=n+1 \n",
    "                    y[n][2]=y[n][2]-d[i][2]\n",
    "                else:\n",
    "                    y[n][1]=y2[n][1] \n",
    "                    y[n][2]=y2[n][2]-d[i][2]\n",
    "            else:\n",
    "                y[n][2]=y[n][2]-d[i][2]\n",
    "            if i==4 and j==(d[i][3]-1):\n",
    "                p2.append(p1) \n",
    "                p3.append(p2) \n",
    "                p3.append(y[n][4])\n",
    "c=sd/sy \n",
    "print(result,p3,c)\n"
   ]
  },
  {
   "cell_type": "markdown",
   "metadata": {},
   "source": [
    "![线性规划练习1](%E7%BA%BF%E6%80%A7%E8%A7%84%E5%88%92%E7%BB%83%E4%B9%A01.png)"
   ]
  },
  {
   "cell_type": "code",
   "execution_count": 18,
   "metadata": {},
   "outputs": [
    {
     "name": "stdout",
     "output_type": "stream",
     "text": [
      "     con: array([1.80714554e-09])\n",
      "     fun: -14.571428565645032\n",
      " message: 'Optimization terminated successfully.'\n",
      "     nit: 5\n",
      "   slack: array([-2.24602559e-10,  3.85714286e+00])\n",
      "  status: 0\n",
      " success: True\n",
      "       x: array([6.42857143e+00, 5.71428571e-01, 2.35900788e-10])\n",
      "14.571428565645032\n"
     ]
    }
   ],
   "source": [
    "import numpy as np\n",
    "from scipy.optimize import linprog\n",
    "\n",
    "c=np.array([-2,-3,5])\n",
    "Aeq=np.array([[1,1,1]]) # 两层\n",
    "beq=np.array([7])\n",
    "A=np.array([[-2,5,-1],[1,3,1]])\n",
    "b=np.array([-10,12])\n",
    "x1,x2,x3=(0,None),(0,None),(0,None)\n",
    "\n",
    "# 第一个为 max后面的系数\n",
    "# 第二个为不等式的前系数\n",
    "# 第三个不等式的后系数\n",
    "# 第四个相等的前系数\n",
    "# 第五个相等的后系数\n",
    "# 第六个为系数\n",
    "res=linprog(c,A,b,Aeq,beq,bounds=(x1,x2,x3)) \n",
    "print(res)\n",
    "print(-res.fun)\n"
   ]
  },
  {
   "cell_type": "markdown",
   "metadata": {},
   "source": [
    "<img src=\"./十一届论文D2.png\"  height=\"330\" width=\"495\">"
   ]
  },
  {
   "cell_type": "code",
   "execution_count": null,
   "metadata": {},
   "outputs": [],
   "source": [
    "import numpy as np\n",
    "import scipy\n",
    "c="
   ]
  },
  {
   "cell_type": "markdown",
   "metadata": {},
   "source": [
    "<img src=\"./线性规划练习2.png\"  height=\"330\" width=\"495\">"
   ]
  },
  {
   "cell_type": "code",
   "execution_count": 19,
   "metadata": {},
   "outputs": [
    {
     "name": "stdout",
     "output_type": "stream",
     "text": [
      "     con: array([], dtype=float64)\n",
      "     fun: 6.99999999487299\n",
      " message: 'Optimization terminated successfully.'\n",
      "     nit: 3\n",
      "   slack: array([ 3.85260890e-09, -1.41066279e-08])\n",
      "  status: 0\n",
      " success: True\n",
      "       x: array([1.17949641, 1.23075538, 0.94874104])\n"
     ]
    }
   ],
   "source": [
    "import numpy as np\n",
    "from scipy import optimize \n",
    "c=np.array([2,3,1])\n",
    "Aeq=np.array([[-1,-4,-2],[-3,-2,0]])\n",
    "beq=np.array([-8,-6])\n",
    "x1,x2,x3=(0,None),(0,None),(0,None)\n",
    "res= optimize.linprog(c,Aeq,beq,bounds=(x1,x2,x3))\n",
    "print(res)"
   ]
  },
  {
   "cell_type": "markdown",
   "metadata": {},
   "source": [
    "## 问题二：\n",
    "利用现有的所有 10 种原料，满足所有的订单方案，同样在不考虑浮动比例的情况 下，寻找切割方案，使所需的原材料张数最少，并且尽可能的提高总的成材率。"
   ]
  },
  {
   "cell_type": "markdown",
   "metadata": {},
   "source": [
    "## 问题三：\n",
    "由于圆盘剪的每次排刀都需要人力手动更换刀在排刀架上的位置，并且被转移到小 机器上进行的切割操作也需要人为进行。利用所有原料，满足所有订单方案，在不考虑 浮动比例的基础上，寻找切割方案，使所需的原材料张数最少，尽量减少换刀数和在小 机器上切割数，并尽量提高总成材率。"
   ]
  },
  {
   "cell_type": "markdown",
   "metadata": {},
   "source": [
    "## 问题四：\n",
    "在问题二的基础上，实际情况中订单会指定浮动比例，使得交付的订单长度可以在 原有要求的基础上存在上下的误差浮动。则在考虑浮动比例的情况下，寻找切割方案， 使所需的原材料张数最少，并且尽可能的提高总的成材率。"
   ]
  },
  {
   "cell_type": "markdown",
   "metadata": {},
   "source": []
  }
 ],
 "metadata": {
  "kernelspec": {
   "display_name": "Python 3.9.12 ('math')",
   "language": "python",
   "name": "python3"
  },
  "language_info": {
   "codemirror_mode": {
    "name": "ipython",
    "version": 3
   },
   "file_extension": ".py",
   "mimetype": "text/x-python",
   "name": "python",
   "nbconvert_exporter": "python",
   "pygments_lexer": "ipython3",
   "version": "3.9.12"
  },
  "orig_nbformat": 4,
  "vscode": {
   "interpreter": {
    "hash": "ad691015b34b7ccf47ed32d22f3bb8655239954a049fb388a8990fe50ab2e03a"
   }
  }
 },
 "nbformat": 4,
 "nbformat_minor": 2
}
