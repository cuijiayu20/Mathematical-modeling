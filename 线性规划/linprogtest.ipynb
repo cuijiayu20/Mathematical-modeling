{
 "cells": [
  {
   "cell_type": "markdown",
   "metadata": {},
   "source": [
    "<img src=\"./线性规划练习3（2）.png\">"
   ]
  },
  {
   "cell_type": "markdown",
   "metadata": {},
   "source": [
    "<img src=\"./线性规划练习3（3）.png\">"
   ]
  },
  {
   "cell_type": "markdown",
   "metadata": {},
   "source": [
    "<img src=\"./线性规划练习3.png\" >\n",
    "\n",
    " c=c(:)是将矩阵变为列向量\n",
    "> \n",
    ">  c=[1 2;3 4];\n",
    "> \n",
    ">  c=c(:);\n",
    "> \n",
    ">  c=1\n",
    "> \n",
    ">  3\n",
    "> \n",
    ">  2\n",
    "> \n",
    ">  4\n",
    "> \n"
   ]
  },
  {
   "cell_type": "code",
   "execution_count": 1,
   "metadata": {},
   "outputs": [
    {
     "name": "stdout",
     "output_type": "stream",
     "text": [
      "[[2.97898412e-10 8.57224165e+00 1.42775835e+00]\n",
      " [1.11247486e-10 4.78882950e-09 1.35845194e-10]\n",
      " [1.29473684e+01 3.05263158e+00 5.24722678e-10]\n",
      " [6.42775835e+00 1.57224165e+00 1.88099307e-10]]\n",
      "121515.78945368329\n"
     ]
    }
   ],
   "source": [
    "import numpy as np\n",
    "from scipy.optimize import linprog\n",
    "c=np.array([[3100],[3800],[3500],[2850]])                          #列向量可以有 第一步，c为列向量，c为利润\n",
    "# a=np.ones([1,3])\n",
    "# print(np.matmul(c,a))\n",
    "c=c*np.ones([1,3])                                                 #第二步，将c拓展到12个，行表示同一个c，列表示不同c\n",
    "#print(c)\n",
    "c= c.flatten('F') #按列降维                                        #带入linprog需要降维，按列降维，因为x是按照行写的[x1j,x2j,x3j,x4j]，按照列展开\n",
    "#print(c)                                                          #需要按列降维才可以将每一个x系数对应上因为，x降维是一层一层降的，所以对应不同的系数才行\n",
    "a1=np.zeros([4,12])                                                #在linprog中每一列对应一个未知数例如：[1,2,3,4]对应四个系数，每一行对应一个公式\n",
    "# print(a1)\n",
    "for i in range(0,4):\n",
    "    a1[i,i:13:4]=1                                                # 系数为1，这里行表示设置的i，列表示设置的j对应的公式，因为几个系数必须有几列\n",
    "#print(a1)                                                        \n",
    "b1=np.array([[18],[15],[23],[12]])                                #货物重量\n",
    "a2=np.zeros([3,12])\n",
    "for i in range(0,3):\n",
    "    a2[i,4*i:4*i+4]=1\n",
    "#print(a2)\n",
    "b2=np.array([[10,16,8]]).T\n",
    "# print(b2)\n",
    "bb=np.array([[480,650,580,390]])\n",
    "a3=np.zeros([3,12])\n",
    "for j in range(0,3):\n",
    "    a3[j,4*j:4*j+4]=bb#不确定\n",
    "bb=bb.T\n",
    "# print(bb)\n",
    "b3=np.array([[6800,8700,5300]]).T\n",
    "a=np.vstack((a1,a2,a3))\n",
    "#print(a)\n",
    "b=np.vstack((b1,b2,b3))\n",
    "# print(b)\n",
    "aeq=np.zeros([2,12])\n",
    "aeq[0,0:4]=1/10\n",
    "aeq[0,4:8]=-1/16\n",
    "aeq[1,4:8]=1/16\n",
    "aeq[1,8:12]=-1/8\n",
    "beq=np.zeros([2,1])\n",
    "x1,x2,x3,x4,x5,x6,x7,x8,x9,x10,x11,x12=(0,None),(0,None),(0,None),(0,None),(0,None),(0,None),(0,None),(0,None),(0,None),(0,None),(0,None),(0,None)\n",
    "\n",
    "c=linprog(-c,a,b,aeq,beq,bounds=(x1,x2,x3,x4,x5,x6,x7,x8,x9,x10,x11,x12))#不确定\n",
    "print(c.x.reshape([4,3]))\n",
    "print(-c.fun)\n",
    "\n",
    "\n"
   ]
  },
  {
   "cell_type": "markdown",
   "metadata": {},
   "source": [
    "a1：\n",
    "[[1. 0. 0. 0. 1. 0. 0. 0. 1. 0. 0. 0.]\n",
    " [0. 1. 0. 0. 0. 1. 0. 0. 0. 1. 0. 0.]\n",
    " [0. 0. 1. 0. 0. 0. 1. 0. 0. 0. 1. 0.]\n",
    " [0. 0. 0. 1. 0. 0. 0. 1. 0. 0. 0. 1.]]\n",
    "a2:\n",
    "[[1. 1. 1. 1. 0. 0. 0. 0. 0. 0. 0. 0.]\n",
    " [0. 0. 0. 0. 1. 1. 1. 1. 0. 0. 0. 0.]\n",
    " [0. 0. 0. 0. 0. 0. 0. 0. 1. 1. 1. 1.]]\n",
    "a：\n",
    "[[  1.   0.   0.   0.   1.   0.   0.   0.   1.   0.   0.   0.]\n",
    " [  0.   1.   0.   0.   0.   1.   0.   0.   0.   1.   0.   0.]\n",
    " [  0.   0.   1.   0.   0.   0.   1.   0.   0.   0.   1.   0.]\n",
    " [  0.   0.   0.   1.   0.   0.   0.   1.   0.   0.   0.   1.]\n",
    " [  1.   1.   1.   1.   0.   0.   0.   0.   0.   0.   0.   0.]\n",
    " [  0.   0.   0.   0.   1.   1.   1.   1.   0.   0.   0.   0.]\n",
    " [  0.   0.   0.   0.   0.   0.   0.   0.   1.   1.   1.   1.]\n",
    " [480. 650. 580. 390.   0.   0.   0.   0.   0.   0.   0.   0.]\n",
    " [  0.   0.   0.   0. 480. 650. 580. 390.   0.   0.   0.   0.]\n",
    " [  0.   0.   0.   0.   0.   0.   0.   0. 480. 650. 580. 390.]]"
   ]
  },
  {
   "cell_type": "code",
   "execution_count": 27,
   "metadata": {},
   "outputs": [
    {
     "name": "stdout",
     "output_type": "stream",
     "text": [
      "创建a矩阵:\n",
      " [[1 2 3]\n",
      " [4 5 6]\n",
      " [7 8 9]]\n",
      "[4 6]\n"
     ]
    }
   ],
   "source": [
    "import numpy as np\n",
    "from scipy.optimize import linprog\n",
    "a=np.array([[1,2,3],[4,5,6],[7,8,9]])\n",
    "print(\"创建a矩阵:\\n\",a)\n",
    "\n",
    "print(a[1,[0,2]])"
   ]
  }
 ],
 "metadata": {
  "kernelspec": {
   "display_name": "Python 3.9.12 ('math')",
   "language": "python",
   "name": "python3"
  },
  "language_info": {
   "codemirror_mode": {
    "name": "ipython",
    "version": 3
   },
   "file_extension": ".py",
   "mimetype": "text/x-python",
   "name": "python",
   "nbconvert_exporter": "python",
   "pygments_lexer": "ipython3",
   "version": "3.9.12"
  },
  "orig_nbformat": 4,
  "vscode": {
   "interpreter": {
    "hash": "ad691015b34b7ccf47ed32d22f3bb8655239954a049fb388a8990fe50ab2e03a"
   }
  }
 },
 "nbformat": 4,
 "nbformat_minor": 2
}
